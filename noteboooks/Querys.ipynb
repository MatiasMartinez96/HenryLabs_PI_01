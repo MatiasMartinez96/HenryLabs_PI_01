{
 "cells": [
  {
   "cell_type": "markdown",
   "metadata": {},
   "source": [
    "Importamos del archivo ETL el Dataframe necesario para realizar las consultas y la libreria pandas"
   ]
  },
  {
   "cell_type": "code",
   "execution_count": null,
   "metadata": {},
   "outputs": [],
   "source": [
    "import pandas as pd\n",
    "from ipynb.fs.full.ETL import df_plataformas"
   ]
  },
  {
   "cell_type": "markdown",
   "metadata": {},
   "source": [
    "Restablecemos los indices del Dataframe para optimizar las consultas"
   ]
  },
  {
   "cell_type": "code",
   "execution_count": null,
   "metadata": {},
   "outputs": [],
   "source": [
    "df_plataformas.reset_index(drop=True, inplace=True)"
   ]
  },
  {
   "cell_type": "code",
   "execution_count": null,
   "metadata": {},
   "outputs": [],
   "source": [
    "df_plataformas"
   ]
  },
  {
   "cell_type": "markdown",
   "metadata": {},
   "source": [
    "PRIMER CONSULTA\n",
    "\n",
    "- Máxima duración según tipo de film (película/serie), por plataforma y por año: El request debe ser: get_max_duration(año, plataforma, [min o season])"
   ]
  },
  {
   "cell_type": "code",
   "execution_count": 82,
   "metadata": {},
   "outputs": [],
   "source": [
    "def get_max_duration(anio:int, plataforma:str, min_season:str):  \n",
    "\n",
    "    if plataforma == 'amazon':\n",
    "        plataforma = 'amz'\n",
    "    elif plataforma == 'disney':\n",
    "        plataforma = 'dis'\n",
    "    elif plataforma == 'hulu':\n",
    "        plataforma = 'hl'\n",
    "    else:\n",
    "        plataforma = 'ntf'\n",
    "\n",
    "    df_temp = df_plataformas.query('show_id.str.contains(@plataforma)')\n",
    "    \n",
    "    df_temp = df_temp.query(\"release_year == @anio and min_season == @min_season\")\n",
    "\n",
    "    df_temp.reset_index(drop=True, inplace=True)\n",
    "\n",
    "    df_temp = df_temp.iloc[df_temp['duration'].idxmax()]\n",
    "\n",
    "    datos = {\n",
    "        'titulo' : [df_temp['title']]\n",
    "    }\n",
    "\n",
    "    df_titulo = pd.DataFrame(datos)\n",
    "    \n",
    "    return df_titulo"
   ]
  },
  {
   "cell_type": "code",
   "execution_count": 83,
   "metadata": {},
   "outputs": [
    {
     "data": {
      "text/html": [
       "<div>\n",
       "<style scoped>\n",
       "    .dataframe tbody tr th:only-of-type {\n",
       "        vertical-align: middle;\n",
       "    }\n",
       "\n",
       "    .dataframe tbody tr th {\n",
       "        vertical-align: top;\n",
       "    }\n",
       "\n",
       "    .dataframe thead th {\n",
       "        text-align: right;\n",
       "    }\n",
       "</style>\n",
       "<table border=\"1\" class=\"dataframe\">\n",
       "  <thead>\n",
       "    <tr style=\"text-align: right;\">\n",
       "      <th></th>\n",
       "      <th>titulo</th>\n",
       "    </tr>\n",
       "  </thead>\n",
       "  <tbody>\n",
       "    <tr>\n",
       "      <th>0</th>\n",
       "      <td>The House That Jack Built</td>\n",
       "    </tr>\n",
       "  </tbody>\n",
       "</table>\n",
       "</div>"
      ],
      "text/plain": [
       "                      titulo\n",
       "0  The House That Jack Built"
      ]
     },
     "execution_count": 83,
     "metadata": {},
     "output_type": "execute_result"
    }
   ],
   "source": [
    "get_max_duration(2018,'hulu','min')"
   ]
  },
  {
   "cell_type": "markdown",
   "metadata": {},
   "source": [
    "SEGUNDA CONSULTA\n",
    "- Cantidad de películas y series (separado) por plataforma El request debe ser: get_count_plataform(plataforma)"
   ]
  },
  {
   "cell_type": "code",
   "execution_count": 72,
   "metadata": {},
   "outputs": [],
   "source": [
    "def get_count_platform(plataforma:str):\n",
    "\n",
    "    aux = plataforma\n",
    "    \n",
    "    if plataforma == 'amazon':\n",
    "        plataforma = 'amz'\n",
    "    elif plataforma == 'disney':\n",
    "        plataforma = 'dis'\n",
    "    elif plataforma == 'hulu':\n",
    "        plataforma = 'hl'\n",
    "    else:\n",
    "        plataforma = 'ntf'\n",
    "\n",
    "    df_temp = df_plataformas.query('show_id.str.contains(@plataforma)')\n",
    "\n",
    "    cant_movies = df_temp.apply(lambda df_temp: df_temp['type'] == 'Movie', axis=1).sum()\n",
    "    cant_tvshows = df_temp.apply(lambda df_temp: df_temp['type'] == 'TV Show', axis=1).sum()\n",
    "\n",
    "    datos = {\n",
    "        'platform' : [aux],\n",
    "        'movie': cant_movies,\n",
    "        'tvshow': cant_tvshows\n",
    "    }\n",
    "\n",
    "    df_count = pd.DataFrame(datos)\n",
    "    \n",
    "    return df_count"
   ]
  },
  {
   "cell_type": "code",
   "execution_count": 73,
   "metadata": {},
   "outputs": [
    {
     "data": {
      "text/html": [
       "<div>\n",
       "<style scoped>\n",
       "    .dataframe tbody tr th:only-of-type {\n",
       "        vertical-align: middle;\n",
       "    }\n",
       "\n",
       "    .dataframe tbody tr th {\n",
       "        vertical-align: top;\n",
       "    }\n",
       "\n",
       "    .dataframe thead th {\n",
       "        text-align: right;\n",
       "    }\n",
       "</style>\n",
       "<table border=\"1\" class=\"dataframe\">\n",
       "  <thead>\n",
       "    <tr style=\"text-align: right;\">\n",
       "      <th></th>\n",
       "      <th>platform</th>\n",
       "      <th>movie</th>\n",
       "      <th>tvshow</th>\n",
       "    </tr>\n",
       "  </thead>\n",
       "  <tbody>\n",
       "    <tr>\n",
       "      <th>0</th>\n",
       "      <td>netflix</td>\n",
       "      <td>6131</td>\n",
       "      <td>2676</td>\n",
       "    </tr>\n",
       "  </tbody>\n",
       "</table>\n",
       "</div>"
      ],
      "text/plain": [
       "  platform  movie  tvshow\n",
       "0  netflix   6131    2676"
      ]
     },
     "execution_count": 73,
     "metadata": {},
     "output_type": "execute_result"
    }
   ],
   "source": [
    "get_count_platform('netflix')"
   ]
  },
  {
   "cell_type": "markdown",
   "metadata": {},
   "source": [
    "TERCER CONSULTA\n",
    "- Cantidad de veces que se repite un género y plataforma con mayor frecuencia del mismo. El request debe ser: get_listedin('genero')\n",
    "Como ejemplo de género pueden usar 'comedy', el cuál deberia devolverles un cunt de 2099 para la plataforma de amazon."
   ]
  },
  {
   "cell_type": "code",
   "execution_count": 74,
   "metadata": {},
   "outputs": [],
   "source": [
    "def get_listedin(genero:str):\n",
    "    \n",
    "    cant_genero1 = df_plataformas.query('listed_in.str.contains(@genero) and show_id.str.contains(\"amz\")').shape[0]\n",
    "\n",
    "    cant_genero2 = df_plataformas.query('listed_in.str.contains(@genero) and show_id.str.contains(\"dis\")').shape[0]\n",
    "\n",
    "    cant_genero3 = df_plataformas.query('listed_in.str.contains(@genero) and show_id.str.contains(\"hl\")').shape[0]\n",
    "\n",
    "    cant_genero4 = df_plataformas.query('listed_in.str.contains(@genero) and show_id.str.contains(\"ntf\")').shape[0]\n",
    "    \n",
    "    cantidades = sorted([cant_genero1, cant_genero2, cant_genero3, cant_genero4], reverse=True)\n",
    "    \n",
    "    if cantidades[0] == cant_genero1:\n",
    "        datos = {\n",
    "        'platform' : ['amazon'],\n",
    "        'cantidad': cant_genero1,\n",
    "        }\n",
    "        df_cant = pd.DataFrame(datos)\n",
    "    elif cantidades[0] == cant_genero2:\n",
    "        datos = {\n",
    "        'platform' : ['disney'],\n",
    "        'cantidad': cant_genero2,\n",
    "        }\n",
    "        df_cant = pd.DataFrame(datos)\n",
    "\n",
    "    elif cantidades[0] == cant_genero3:\n",
    "        datos = {\n",
    "        'platform' : ['hulu'],\n",
    "        'cantidad': cant_genero3,\n",
    "        }\n",
    "        df_cant = pd.DataFrame(datos)\n",
    "    else:\n",
    "        datos = {\n",
    "        'platform' : ['netflix'],\n",
    "        'cantidad': cant_genero4,\n",
    "        }\n",
    "    \n",
    "    \n",
    "    df_cant = pd.DataFrame(datos)\n",
    "\n",
    "    return df_cant"
   ]
  },
  {
   "cell_type": "code",
   "execution_count": 77,
   "metadata": {},
   "outputs": [
    {
     "data": {
      "text/html": [
       "<div>\n",
       "<style scoped>\n",
       "    .dataframe tbody tr th:only-of-type {\n",
       "        vertical-align: middle;\n",
       "    }\n",
       "\n",
       "    .dataframe tbody tr th {\n",
       "        vertical-align: top;\n",
       "    }\n",
       "\n",
       "    .dataframe thead th {\n",
       "        text-align: right;\n",
       "    }\n",
       "</style>\n",
       "<table border=\"1\" class=\"dataframe\">\n",
       "  <thead>\n",
       "    <tr style=\"text-align: right;\">\n",
       "      <th></th>\n",
       "      <th>platform</th>\n",
       "      <th>cantidad</th>\n",
       "    </tr>\n",
       "  </thead>\n",
       "  <tbody>\n",
       "    <tr>\n",
       "      <th>0</th>\n",
       "      <td>amazon</td>\n",
       "      <td>2099</td>\n",
       "    </tr>\n",
       "  </tbody>\n",
       "</table>\n",
       "</div>"
      ],
      "text/plain": [
       "  platform  cantidad\n",
       "0   amazon      2099"
      ]
     },
     "execution_count": 77,
     "metadata": {},
     "output_type": "execute_result"
    }
   ],
   "source": [
    "get_listedin('Comedy')"
   ]
  },
  {
   "cell_type": "markdown",
   "metadata": {},
   "source": [
    "CUARTA CONSULTA\n",
    "- Actor que más se repite según plataforma y año. El request debe ser: get_actor(plataforma, año)"
   ]
  },
  {
   "cell_type": "code",
   "execution_count": 92,
   "metadata": {},
   "outputs": [],
   "source": [
    "def get_actor(plataforma:str, anio:int):\n",
    "    \n",
    "    aux = plataforma\n",
    "    \n",
    "    from statistics import mode\n",
    "    \n",
    "    if plataforma == 'amazon':\n",
    "        plataforma = 'amz'\n",
    "    elif plataforma == 'disney':\n",
    "        plataforma = 'dis'\n",
    "    elif plataforma == 'hulu':\n",
    "        plataforma = 'hl'\n",
    "    else:\n",
    "        plataforma = 'ntf'\n",
    "\n",
    "    df_temp = df_plataformas.query('show_id.str.contains(@plataforma) and release_year == @anio')\n",
    "\n",
    "    total_actores = []\n",
    "\n",
    "    lista_actores = df_temp['cast'].tolist()\n",
    "    \n",
    "    #En este ciclo obtengo cada actor individualmente\n",
    "    for i in range(len(lista_actores)):\n",
    "        lista_actores2 = lista_actores[i].split(\",\")\n",
    "        for j in range (len(lista_actores2)):\n",
    "            if lista_actores2[j] != 'Sin dato':\n",
    "                total_actores.append(lista_actores2[j])\n",
    "    \n",
    "    \n",
    "    datos = {\n",
    "            'platform' : [aux],\n",
    "            'cantidad': total_actores.count(mode(total_actores)),\n",
    "            'actores' : mode(total_actores)\n",
    "            }\n",
    "    \n",
    "    \n",
    "    df_act = pd.DataFrame(datos)\n",
    "    \n",
    "    \n",
    "\n",
    "    return df_act"
   ]
  },
  {
   "cell_type": "code",
   "execution_count": 93,
   "metadata": {},
   "outputs": [
    {
     "data": {
      "text/html": [
       "<div>\n",
       "<style scoped>\n",
       "    .dataframe tbody tr th:only-of-type {\n",
       "        vertical-align: middle;\n",
       "    }\n",
       "\n",
       "    .dataframe tbody tr th {\n",
       "        vertical-align: top;\n",
       "    }\n",
       "\n",
       "    .dataframe thead th {\n",
       "        text-align: right;\n",
       "    }\n",
       "</style>\n",
       "<table border=\"1\" class=\"dataframe\">\n",
       "  <thead>\n",
       "    <tr style=\"text-align: right;\">\n",
       "      <th></th>\n",
       "      <th>platform</th>\n",
       "      <th>cantidad</th>\n",
       "      <th>actores</th>\n",
       "    </tr>\n",
       "  </thead>\n",
       "  <tbody>\n",
       "    <tr>\n",
       "      <th>0</th>\n",
       "      <td>netflix</td>\n",
       "      <td>8</td>\n",
       "      <td>Andrea Libman</td>\n",
       "    </tr>\n",
       "  </tbody>\n",
       "</table>\n",
       "</div>"
      ],
      "text/plain": [
       "  platform  cantidad         actores\n",
       "0  netflix         8   Andrea Libman"
      ]
     },
     "execution_count": 93,
     "metadata": {},
     "output_type": "execute_result"
    }
   ],
   "source": [
    "get_actor('netflix',2018)"
   ]
  }
 ],
 "metadata": {
  "kernelspec": {
   "display_name": "Python 3.10.7 64-bit",
   "language": "python",
   "name": "python3"
  },
  "language_info": {
   "codemirror_mode": {
    "name": "ipython",
    "version": 3
   },
   "file_extension": ".py",
   "mimetype": "text/x-python",
   "name": "python",
   "nbconvert_exporter": "python",
   "pygments_lexer": "ipython3",
   "version": "3.10.7"
  },
  "orig_nbformat": 4,
  "vscode": {
   "interpreter": {
    "hash": "c259d08bc2cb2f5e0792d6b908d68d0a519f1348398ed9bbfffb6d4d4eafb58d"
   }
  }
 },
 "nbformat": 4,
 "nbformat_minor": 2
}
