{
 "cells": [
  {
   "cell_type": "markdown",
   "metadata": {},
   "source": [
    "INGESTA DE DATOS - EXTRACCIÓN"
   ]
  },
  {
   "cell_type": "markdown",
   "metadata": {},
   "source": [
    "Importamos las librerias necesarias"
   ]
  },
  {
   "cell_type": "code",
   "execution_count": null,
   "metadata": {},
   "outputs": [],
   "source": [
    "import pandas as pd\n",
    "import numpy as np\n",
    "import requests as rq\n",
    "import io"
   ]
  },
  {
   "cell_type": "markdown",
   "metadata": {},
   "source": [
    "Realizamos la extraccion de los datos utilizando la libreria request"
   ]
  },
  {
   "cell_type": "code",
   "execution_count": null,
   "metadata": {},
   "outputs": [],
   "source": [
    "req_amazon = rq.get('https://raw.githubusercontent.com/HX-FAshur/PI01_DATA05/main/Datasets/amazon_prime_titles.csv').content\n",
    "\n",
    "req_disney = rq.get('https://raw.githubusercontent.com/HX-FAshur/PI01_DATA05/main/Datasets/disney_plus_titles.csv').content\n",
    "\n",
    "req_hulu = rq.get('https://raw.githubusercontent.com/HX-FAshur/PI01_DATA05/main/Datasets/hulu_titles.csv').content\n",
    "\n",
    "req_netflix = rq.get('https://raw.githubusercontent.com/HX-FAshur/PI01_DATA05/main/Datasets/netflix_titles.json').content\n"
   ]
  },
  {
   "cell_type": "markdown",
   "metadata": {},
   "source": [
    "Convertimos las request obtenidas en \"Dataframes\" de Pandas"
   ]
  },
  {
   "cell_type": "code",
   "execution_count": null,
   "metadata": {},
   "outputs": [],
   "source": [
    "df_amazon = pd.read_csv(io.StringIO(req_amazon.decode('utf-8')))\n",
    "\n",
    "df_disney = pd.read_csv(io.StringIO(req_disney.decode('utf-8')))\n",
    "\n",
    "df_hulu = pd.read_csv(io.StringIO(req_hulu.decode('utf-8')))\n",
    "\n",
    "df_netflix = pd.read_json(io.StringIO(req_netflix.decode('utf-8')))"
   ]
  },
  {
   "cell_type": "markdown",
   "metadata": {},
   "source": [
    "Verficamos la informacion de cada dataframe"
   ]
  },
  {
   "cell_type": "code",
   "execution_count": null,
   "metadata": {},
   "outputs": [],
   "source": [
    "df_amazon.head(2)"
   ]
  },
  {
   "cell_type": "code",
   "execution_count": null,
   "metadata": {},
   "outputs": [],
   "source": [
    "df_disney.head(2)"
   ]
  },
  {
   "cell_type": "code",
   "execution_count": null,
   "metadata": {},
   "outputs": [],
   "source": [
    "df_hulu.head(2)"
   ]
  },
  {
   "cell_type": "code",
   "execution_count": null,
   "metadata": {},
   "outputs": [],
   "source": [
    "df_netflix.head(19)"
   ]
  },
  {
   "cell_type": "markdown",
   "metadata": {},
   "source": [
    "NORMALIZACIÓN DE DATOS"
   ]
  },
  {
   "cell_type": "markdown",
   "metadata": {},
   "source": [
    "Modificamos ID's para poder diferenciarlos por plataforma"
   ]
  },
  {
   "cell_type": "code",
   "execution_count": null,
   "metadata": {},
   "outputs": [],
   "source": [
    "df_amazon.show_id = df_amazon.show_id + '_amz'\n",
    "df_disney.show_id = df_disney.show_id + '_dis'\n",
    "df_hulu.show_id = df_hulu.show_id + '_hl'\n",
    "df_netflix.show_id = df_netflix.show_id + '_ntf'"
   ]
  },
  {
   "cell_type": "markdown",
   "metadata": {},
   "source": [
    "Concatenamos (unimos) los 4 dataframes en un único dataframe para poder realizar las consultas"
   ]
  },
  {
   "cell_type": "code",
   "execution_count": null,
   "metadata": {},
   "outputs": [],
   "source": [
    "df_plataformas = pd.concat([df_amazon, df_disney, df_hulu, df_netflix], axis=0)"
   ]
  },
  {
   "cell_type": "code",
   "execution_count": null,
   "metadata": {},
   "outputs": [],
   "source": [
    "df_plataformas.head(2)"
   ]
  },
  {
   "cell_type": "markdown",
   "metadata": {},
   "source": [
    "Dividimos los datos de la columna \"duration\" en 2 columnas: \"duration\" (con el valor numérico de la duración) y \"min/season\" (con el tipo de valor ya sea minutos o season)"
   ]
  },
  {
   "cell_type": "code",
   "execution_count": null,
   "metadata": {},
   "outputs": [],
   "source": [
    "temp = df_plataformas[\"duration\"].str.split(\" \", n = 1, expand = True) \n",
    "  \n",
    "df_plataformas.drop(columns =[\"duration\"], inplace = True)\n",
    "\n",
    "df_plataformas[\"duration\"]= temp[0]\n",
    "\n",
    "df_plataformas[\"min_season\"]= temp[1]\n",
    "  \n",
    "df_plataformas"
   ]
  },
  {
   "cell_type": "markdown",
   "metadata": {},
   "source": [
    "Convertimos el tipo de datos de la columna \"duration\" a Float"
   ]
  },
  {
   "cell_type": "code",
   "execution_count": null,
   "metadata": {},
   "outputs": [],
   "source": [
    "df_plataformas['duration'] = df_plataformas['duration'].astype(float)"
   ]
  },
  {
   "cell_type": "markdown",
   "metadata": {},
   "source": [
    "Elimino las columnas que considero innecesarias para las consultas del proyecto (solo las elimino del Dataframe df_plataformas). Si se presenta la situacion de que la compañia/empresa necesite algunos de estos datos en el futuro puedo obtenerlos de los 4 dataframes creados al inicio del script."
   ]
  },
  {
   "cell_type": "code",
   "execution_count": null,
   "metadata": {},
   "outputs": [],
   "source": [
    "df_plataformas.drop(['date_added','rating', 'description'], axis = 'columns', inplace=True)"
   ]
  },
  {
   "cell_type": "markdown",
   "metadata": {},
   "source": [
    "Verificamos la existencia de valores nulos por columna"
   ]
  },
  {
   "cell_type": "code",
   "execution_count": null,
   "metadata": {},
   "outputs": [],
   "source": [
    "print(df_plataformas['show_id'].isna().sum())\n",
    "print(df_plataformas['type'].isna().sum())\n",
    "print(df_plataformas['title'].isna().sum())\n",
    "print(df_plataformas['director'].isna().sum())\n",
    "print(df_plataformas['cast'].isna().sum())\n",
    "print(df_plataformas['country'].isna().sum())\n",
    "print(df_plataformas['release_year'].isna().sum())\n",
    "print(df_plataformas['listed_in'].isna().sum())\n",
    "print(df_plataformas['duration'].isna().sum())\n",
    "print(df_plataformas['min_season'].isna().sum())"
   ]
  },
  {
   "cell_type": "markdown",
   "metadata": {},
   "source": [
    "Modificamos los valores nulos de acuerdo a la siguiente condicion:\n",
    "- Si la columna es tipo string (object en Pandas), los NaN se reemplazan por 'Sin dato'.\n",
    "- Si la columna es de tipo float, los NaN reemplazan por la Mediana de la columna. La elección de la mediana (85) se debe a que la mayoria de las peliculas duran más de 1 hora y el valor de la media es 67 (aproximadamente 1 hora)."
   ]
  },
  {
   "cell_type": "code",
   "execution_count": null,
   "metadata": {},
   "outputs": [],
   "source": [
    "df_plataformas.fillna({'director': 'Sin dato', 'cast': 'Sin dato', 'country': 'Sin dato', 'duration': df_plataformas['duration'].median() , 'min_season': 'Sin dato'}, inplace=True)"
   ]
  },
  {
   "cell_type": "code",
   "execution_count": null,
   "metadata": {},
   "outputs": [],
   "source": [
    "df_plataformas['min_season'].replace({\"Season\":'season',\"Seasons\":'season'}, inplace=True)"
   ]
  },
  {
   "cell_type": "code",
   "execution_count": 26,
   "metadata": {},
   "outputs": [
    {
     "data": {
      "text/html": [
       "<div>\n",
       "<style scoped>\n",
       "    .dataframe tbody tr th:only-of-type {\n",
       "        vertical-align: middle;\n",
       "    }\n",
       "\n",
       "    .dataframe tbody tr th {\n",
       "        vertical-align: top;\n",
       "    }\n",
       "\n",
       "    .dataframe thead th {\n",
       "        text-align: right;\n",
       "    }\n",
       "</style>\n",
       "<table border=\"1\" class=\"dataframe\">\n",
       "  <thead>\n",
       "    <tr style=\"text-align: right;\">\n",
       "      <th></th>\n",
       "      <th>show_id</th>\n",
       "      <th>type</th>\n",
       "      <th>title</th>\n",
       "      <th>director</th>\n",
       "      <th>cast</th>\n",
       "      <th>country</th>\n",
       "      <th>release_year</th>\n",
       "      <th>listed_in</th>\n",
       "      <th>duration</th>\n",
       "      <th>min_season</th>\n",
       "    </tr>\n",
       "  </thead>\n",
       "  <tbody>\n",
       "    <tr>\n",
       "      <th>0</th>\n",
       "      <td>s1_amz</td>\n",
       "      <td>Movie</td>\n",
       "      <td>The Grand Seduction</td>\n",
       "      <td>Don McKellar</td>\n",
       "      <td>Brendan Gleeson, Taylor Kitsch, Gordon Pinsent</td>\n",
       "      <td>Canada</td>\n",
       "      <td>2014</td>\n",
       "      <td>Comedy, Drama</td>\n",
       "      <td>113.0</td>\n",
       "      <td>min</td>\n",
       "    </tr>\n",
       "    <tr>\n",
       "      <th>1</th>\n",
       "      <td>s2_amz</td>\n",
       "      <td>Movie</td>\n",
       "      <td>Take Care Good Night</td>\n",
       "      <td>Girish Joshi</td>\n",
       "      <td>Mahesh Manjrekar, Abhay Mahajan, Sachin Khedekar</td>\n",
       "      <td>India</td>\n",
       "      <td>2018</td>\n",
       "      <td>Drama, International</td>\n",
       "      <td>110.0</td>\n",
       "      <td>min</td>\n",
       "    </tr>\n",
       "    <tr>\n",
       "      <th>2</th>\n",
       "      <td>s3_amz</td>\n",
       "      <td>Movie</td>\n",
       "      <td>Secrets of Deception</td>\n",
       "      <td>Josh Webber</td>\n",
       "      <td>Tom Sizemore, Lorenzo Lamas, Robert LaSardo, R...</td>\n",
       "      <td>United States</td>\n",
       "      <td>2017</td>\n",
       "      <td>Action, Drama, Suspense</td>\n",
       "      <td>74.0</td>\n",
       "      <td>min</td>\n",
       "    </tr>\n",
       "    <tr>\n",
       "      <th>3</th>\n",
       "      <td>s4_amz</td>\n",
       "      <td>Movie</td>\n",
       "      <td>Pink: Staying True</td>\n",
       "      <td>Sonia Anderson</td>\n",
       "      <td>Interviews with: Pink, Adele, Beyoncé, Britney...</td>\n",
       "      <td>United States</td>\n",
       "      <td>2014</td>\n",
       "      <td>Documentary</td>\n",
       "      <td>69.0</td>\n",
       "      <td>min</td>\n",
       "    </tr>\n",
       "    <tr>\n",
       "      <th>4</th>\n",
       "      <td>s5_amz</td>\n",
       "      <td>Movie</td>\n",
       "      <td>Monster Maker</td>\n",
       "      <td>Giles Foster</td>\n",
       "      <td>Harry Dean Stanton, Kieran O'Brien, George Cos...</td>\n",
       "      <td>United Kingdom</td>\n",
       "      <td>1989</td>\n",
       "      <td>Drama, Fantasy</td>\n",
       "      <td>45.0</td>\n",
       "      <td>min</td>\n",
       "    </tr>\n",
       "    <tr>\n",
       "      <th>...</th>\n",
       "      <td>...</td>\n",
       "      <td>...</td>\n",
       "      <td>...</td>\n",
       "      <td>...</td>\n",
       "      <td>...</td>\n",
       "      <td>...</td>\n",
       "      <td>...</td>\n",
       "      <td>...</td>\n",
       "      <td>...</td>\n",
       "      <td>...</td>\n",
       "    </tr>\n",
       "    <tr>\n",
       "      <th>8802</th>\n",
       "      <td>s8803_ntf</td>\n",
       "      <td>Movie</td>\n",
       "      <td>Zodiac</td>\n",
       "      <td>David Fincher</td>\n",
       "      <td>Mark Ruffalo, Jake Gyllenhaal, Robert Downey J...</td>\n",
       "      <td>United States</td>\n",
       "      <td>2007</td>\n",
       "      <td>Cult Movies, Dramas, Thrillers</td>\n",
       "      <td>158.0</td>\n",
       "      <td>min</td>\n",
       "    </tr>\n",
       "    <tr>\n",
       "      <th>8803</th>\n",
       "      <td>s8804_ntf</td>\n",
       "      <td>TV Show</td>\n",
       "      <td>Zombie Dumb</td>\n",
       "      <td>Sin dato</td>\n",
       "      <td>Sin dato</td>\n",
       "      <td>Sin dato</td>\n",
       "      <td>2018</td>\n",
       "      <td>Kids' TV, Korean TV Shows, TV Comedies</td>\n",
       "      <td>2.0</td>\n",
       "      <td>season</td>\n",
       "    </tr>\n",
       "    <tr>\n",
       "      <th>8804</th>\n",
       "      <td>s8805_ntf</td>\n",
       "      <td>Movie</td>\n",
       "      <td>Zombieland</td>\n",
       "      <td>Ruben Fleischer</td>\n",
       "      <td>Jesse Eisenberg, Woody Harrelson, Emma Stone, ...</td>\n",
       "      <td>United States</td>\n",
       "      <td>2009</td>\n",
       "      <td>Comedies, Horror Movies</td>\n",
       "      <td>88.0</td>\n",
       "      <td>min</td>\n",
       "    </tr>\n",
       "    <tr>\n",
       "      <th>8805</th>\n",
       "      <td>s8806_ntf</td>\n",
       "      <td>Movie</td>\n",
       "      <td>Zoom</td>\n",
       "      <td>Peter Hewitt</td>\n",
       "      <td>Tim Allen, Courteney Cox, Chevy Chase, Kate Ma...</td>\n",
       "      <td>United States</td>\n",
       "      <td>2006</td>\n",
       "      <td>Children &amp; Family Movies, Comedies</td>\n",
       "      <td>88.0</td>\n",
       "      <td>min</td>\n",
       "    </tr>\n",
       "    <tr>\n",
       "      <th>8806</th>\n",
       "      <td>s8807_ntf</td>\n",
       "      <td>Movie</td>\n",
       "      <td>Zubaan</td>\n",
       "      <td>Mozez Singh</td>\n",
       "      <td>Vicky Kaushal, Sarah-Jane Dias, Raaghav Chanan...</td>\n",
       "      <td>India</td>\n",
       "      <td>2015</td>\n",
       "      <td>Dramas, International Movies, Music &amp; Musicals</td>\n",
       "      <td>111.0</td>\n",
       "      <td>min</td>\n",
       "    </tr>\n",
       "  </tbody>\n",
       "</table>\n",
       "<p>22998 rows × 10 columns</p>\n",
       "</div>"
      ],
      "text/plain": [
       "        show_id     type                 title         director  \\\n",
       "0        s1_amz    Movie   The Grand Seduction     Don McKellar   \n",
       "1        s2_amz    Movie  Take Care Good Night     Girish Joshi   \n",
       "2        s3_amz    Movie  Secrets of Deception      Josh Webber   \n",
       "3        s4_amz    Movie    Pink: Staying True   Sonia Anderson   \n",
       "4        s5_amz    Movie         Monster Maker     Giles Foster   \n",
       "...         ...      ...                   ...              ...   \n",
       "8802  s8803_ntf    Movie                Zodiac    David Fincher   \n",
       "8803  s8804_ntf  TV Show           Zombie Dumb         Sin dato   \n",
       "8804  s8805_ntf    Movie            Zombieland  Ruben Fleischer   \n",
       "8805  s8806_ntf    Movie                  Zoom     Peter Hewitt   \n",
       "8806  s8807_ntf    Movie                Zubaan      Mozez Singh   \n",
       "\n",
       "                                                   cast         country  \\\n",
       "0        Brendan Gleeson, Taylor Kitsch, Gordon Pinsent          Canada   \n",
       "1      Mahesh Manjrekar, Abhay Mahajan, Sachin Khedekar           India   \n",
       "2     Tom Sizemore, Lorenzo Lamas, Robert LaSardo, R...   United States   \n",
       "3     Interviews with: Pink, Adele, Beyoncé, Britney...   United States   \n",
       "4     Harry Dean Stanton, Kieran O'Brien, George Cos...  United Kingdom   \n",
       "...                                                 ...             ...   \n",
       "8802  Mark Ruffalo, Jake Gyllenhaal, Robert Downey J...   United States   \n",
       "8803                                           Sin dato        Sin dato   \n",
       "8804  Jesse Eisenberg, Woody Harrelson, Emma Stone, ...   United States   \n",
       "8805  Tim Allen, Courteney Cox, Chevy Chase, Kate Ma...   United States   \n",
       "8806  Vicky Kaushal, Sarah-Jane Dias, Raaghav Chanan...           India   \n",
       "\n",
       "      release_year                                       listed_in  duration  \\\n",
       "0             2014                                   Comedy, Drama     113.0   \n",
       "1             2018                            Drama, International     110.0   \n",
       "2             2017                         Action, Drama, Suspense      74.0   \n",
       "3             2014                                     Documentary      69.0   \n",
       "4             1989                                  Drama, Fantasy      45.0   \n",
       "...            ...                                             ...       ...   \n",
       "8802          2007                  Cult Movies, Dramas, Thrillers     158.0   \n",
       "8803          2018          Kids' TV, Korean TV Shows, TV Comedies       2.0   \n",
       "8804          2009                         Comedies, Horror Movies      88.0   \n",
       "8805          2006              Children & Family Movies, Comedies      88.0   \n",
       "8806          2015  Dramas, International Movies, Music & Musicals     111.0   \n",
       "\n",
       "     min_season  \n",
       "0           min  \n",
       "1           min  \n",
       "2           min  \n",
       "3           min  \n",
       "4           min  \n",
       "...         ...  \n",
       "8802        min  \n",
       "8803     season  \n",
       "8804        min  \n",
       "8805        min  \n",
       "8806        min  \n",
       "\n",
       "[22998 rows x 10 columns]"
      ]
     },
     "execution_count": 26,
     "metadata": {},
     "output_type": "execute_result"
    }
   ],
   "source": [
    "df_plataformas"
   ]
  },
  {
   "cell_type": "code",
   "execution_count": null,
   "metadata": {},
   "outputs": [],
   "source": []
  }
 ],
 "metadata": {
  "kernelspec": {
   "display_name": "Python 3.10.7 64-bit",
   "language": "python",
   "name": "python3"
  },
  "language_info": {
   "codemirror_mode": {
    "name": "ipython",
    "version": 3
   },
   "file_extension": ".py",
   "mimetype": "text/x-python",
   "name": "python",
   "nbconvert_exporter": "python",
   "pygments_lexer": "ipython3",
   "version": "3.10.7"
  },
  "orig_nbformat": 4,
  "vscode": {
   "interpreter": {
    "hash": "c259d08bc2cb2f5e0792d6b908d68d0a519f1348398ed9bbfffb6d4d4eafb58d"
   }
  }
 },
 "nbformat": 4,
 "nbformat_minor": 2
}
